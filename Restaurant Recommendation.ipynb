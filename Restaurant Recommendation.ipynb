{
 "cells": [
  {
   "cell_type": "markdown",
   "id": "f52b754a",
   "metadata": {},
   "source": [
    "+ Sistem pemberi rekomendasi restoran adalah aplikasi yang merekomendasikan restoran sejenis kepada pelanggan sesuai dengan selera pelanggan."
   ]
  },
  {
   "cell_type": "code",
   "execution_count": 1,
   "id": "ccaff7a0",
   "metadata": {},
   "outputs": [],
   "source": [
    "# Import Library\n",
    "\n",
    "import numpy as np\n",
    "import pandas as pd\n",
    "from sklearn.feature_extraction import text\n",
    "from sklearn.metrics.pairwise import cosine_similarity"
   ]
  },
  {
   "cell_type": "code",
   "execution_count": 2,
   "id": "ad025bdf",
   "metadata": {},
   "outputs": [],
   "source": [
    "# Load dataset\n",
    "data = pd.read_csv(\"dataset/Restaurant/TripAdvisor_RestauarantRecommendation.csv\")\n"
   ]
  },
  {
   "cell_type": "code",
   "execution_count": 3,
   "id": "a652a260",
   "metadata": {},
   "outputs": [
    {
     "name": "stdout",
     "output_type": "stream",
     "text": [
      "<class 'pandas.core.frame.DataFrame'>\n",
      "RangeIndex: 3062 entries, 0 to 3061\n",
      "Data columns (total 11 columns):\n",
      " #   Column            Non-Null Count  Dtype \n",
      "---  ------            --------------  ----- \n",
      " 0   Name              3062 non-null   object\n",
      " 1   Street Address    3062 non-null   object\n",
      " 2   Location          3062 non-null   object\n",
      " 3   Type              3049 non-null   object\n",
      " 4   Reviews           3062 non-null   object\n",
      " 5   No of Reviews     3062 non-null   object\n",
      " 6   Comments          2447 non-null   object\n",
      " 7   Contact Number    3062 non-null   object\n",
      " 8   Trip_advisor Url  3062 non-null   object\n",
      " 9   Menu              3062 non-null   object\n",
      " 10  Price_Range       3062 non-null   object\n",
      "dtypes: object(11)\n",
      "memory usage: 263.3+ KB\n"
     ]
    }
   ],
   "source": [
    "data.info()"
   ]
  },
  {
   "cell_type": "markdown",
   "id": "da617638",
   "metadata": {},
   "source": [
    "+ Mari kita lihat apakah datanya mengandung nilai nol atau tidak:"
   ]
  },
  {
   "cell_type": "code",
   "execution_count": 4,
   "id": "09c3f114",
   "metadata": {},
   "outputs": [
    {
     "data": {
      "text/plain": [
       "Name                  0\n",
       "Street Address        0\n",
       "Location              0\n",
       "Type                 13\n",
       "Reviews               0\n",
       "No of Reviews         0\n",
       "Comments            615\n",
       "Contact Number        0\n",
       "Trip_advisor Url      0\n",
       "Menu                  0\n",
       "Price_Range           0\n",
       "dtype: int64"
      ]
     },
     "execution_count": 4,
     "metadata": {},
     "output_type": "execute_result"
    }
   ],
   "source": [
    "data.isnull().sum()"
   ]
  },
  {
   "cell_type": "markdown",
   "id": "6c659d90",
   "metadata": {},
   "source": [
    "+ Saya akan memilih dua kolom dari kumpulan data untuk sisa tugas (Name, Type):"
   ]
  },
  {
   "cell_type": "code",
   "execution_count": 5,
   "id": "346dc1c5",
   "metadata": {},
   "outputs": [
    {
     "name": "stdout",
     "output_type": "stream",
     "text": [
      "                            Name                                          Type\n",
      "0  Betty Lou's Seafood and Grill   Seafood, Vegetarian Friendly, Vegan Options\n",
      "1              Coach House Diner          Diner, American, Vegetarian Friendly\n",
      "2               Table Talk Diner          American, Diner, Vegetarian Friendly\n",
      "3                    Sixty Vines       American, Wine Bar, Vegetarian Friendly\n",
      "4                   The Clam Bar                        American, Bar, Seafood\n"
     ]
    }
   ],
   "source": [
    "data = data[[\"Name\", \"Type\"]]\n",
    "print(data.head())"
   ]
  },
  {
   "cell_type": "markdown",
   "id": "98467f80",
   "metadata": {},
   "source": [
    "+ Jadi data memiliki beberapa nilai null di kolom Type. Saya akan menghapus baris yang berisi nilai nol sebelum melanjutkan:"
   ]
  },
  {
   "cell_type": "code",
   "execution_count": 6,
   "id": "494ee4ef",
   "metadata": {},
   "outputs": [],
   "source": [
    "data = data.dropna()"
   ]
  },
  {
   "cell_type": "markdown",
   "id": "1ed3d0b3",
   "metadata": {},
   "source": [
    "+ Jenis restoran merupakan fitur berharga dalam data untuk membangun sistem rekomendasi. \n",
    "+ Kolom jenis di sini mewakili kategori restoran. \n",
    "+ Misalnya, jika pelanggan menyukai restoran ramah vegetarian, dia hanya akan melihat rekomendasi jika restoran tersebut juga ramah vegetarian. \n",
    "+ Jadi saya akan menggunakan kolom Jenis sebagai fitur untuk merekomendasikan restoran serupa kepada pelanggan:"
   ]
  },
  {
   "cell_type": "code",
   "execution_count": 7,
   "id": "0261baa1",
   "metadata": {},
   "outputs": [],
   "source": [
    "feature = data[\"Type\"].tolist()\n",
    "tfidf = text.TfidfVectorizer(input=feature, stop_words=\"english\")\n",
    "tfidf_matrix = tfidf.fit_transform(feature)\n",
    "similarity = cosine_similarity(tfidf_matrix)"
   ]
  },
  {
   "cell_type": "markdown",
   "id": "d80511e5",
   "metadata": {},
   "source": [
    "+ Sekarang saya akan menetapkan nama restoran sebagai indeks sehingga kita dapat menemukan restoran serupa dengan memberikan nama restoran sebagai input:\n",
    "\n"
   ]
  },
  {
   "cell_type": "code",
   "execution_count": 8,
   "id": "9850b062",
   "metadata": {},
   "outputs": [],
   "source": [
    "indices = pd.Series(data.index, index=data['Name']).drop_duplicates()"
   ]
  },
  {
   "cell_type": "markdown",
   "id": "76b50027",
   "metadata": {},
   "source": [
    "+ Write a function to recommend similar restaurants:"
   ]
  },
  {
   "cell_type": "code",
   "execution_count": 9,
   "id": "a73094a9",
   "metadata": {},
   "outputs": [],
   "source": [
    "def restaurant_recommendation(name, similarity = similarity):\n",
    "    index = indices[name]\n",
    "    similarity_scores = list(enumerate(similarity[index]))\n",
    "    similarity_scores = sorted(similarity_scores, key=lambda x: x[1], reverse=True)\n",
    "    similarity_scores = similarity_scores[0:10]\n",
    "    restaurantindices = [i[0] for i in similarity_scores]\n",
    "    return data['Name'].iloc[restaurantindices]"
   ]
  },
  {
   "cell_type": "code",
   "execution_count": 10,
   "id": "080681c5",
   "metadata": {},
   "outputs": [
    {
     "name": "stdout",
     "output_type": "stream",
     "text": [
      "23                   The Lion's Share\n",
      "154                        Houlihan's\n",
      "518            Midgley's Public House\n",
      "568                 Aspen Creek Grill\n",
      "770              Pete's Sunset Grille\n",
      "1190     Paul Martin's American Grill\n",
      "1581                   Aviation Grill\n",
      "1872                   Aviation Grill\n",
      "2193                Crest Bar & Grill\n",
      "2612    Tahoe Joe's Famous Steakhouse\n",
      "Name: Name, dtype: object\n"
     ]
    }
   ],
   "source": [
    "# View recommendation\n",
    "\n",
    "print(restaurant_recommendation(\"Market Grill\"))"
   ]
  },
  {
   "cell_type": "code",
   "execution_count": null,
   "id": "021ce70f",
   "metadata": {},
   "outputs": [],
   "source": []
  }
 ],
 "metadata": {
  "kernelspec": {
   "display_name": "Python 3 (ipykernel)",
   "language": "python",
   "name": "python3"
  },
  "language_info": {
   "codemirror_mode": {
    "name": "ipython",
    "version": 3
   },
   "file_extension": ".py",
   "mimetype": "text/x-python",
   "name": "python",
   "nbconvert_exporter": "python",
   "pygments_lexer": "ipython3",
   "version": "3.9.7"
  }
 },
 "nbformat": 4,
 "nbformat_minor": 5
}
